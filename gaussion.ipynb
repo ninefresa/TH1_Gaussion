{
 "cells": [
  {
   "cell_type": "code",
   "execution_count": 1,
   "id": "d4f0a093",
   "metadata": {
    "_cell_guid": "b1076dfc-b9ad-4769-8c92-a6c4dae69d19",
    "_uuid": "8f2839f25d086af736a60e9eeb907d3b93b6e0e5",
    "execution": {
     "iopub.execute_input": "2024-05-07T03:43:41.995677Z",
     "iopub.status.busy": "2024-05-07T03:43:41.995183Z",
     "iopub.status.idle": "2024-05-07T03:43:47.347160Z",
     "shell.execute_reply": "2024-05-07T03:43:47.345836Z"
    },
    "papermill": {
     "duration": 5.363501,
     "end_time": "2024-05-07T03:43:47.350468",
     "exception": false,
     "start_time": "2024-05-07T03:43:41.986967",
     "status": "completed"
    },
    "tags": []
   },
   "outputs": [],
   "source": [
    "import pandas as pd\n",
    "import numpy as np\n",
    "import matplotlib\n",
    "import matplotlib.pyplot as plt\n",
    "from matplotlib import colors\n",
    "import seaborn as sns\n",
    "from sklearn.mixture import BayesianGaussianMixture,GaussianMixture\n",
    "from sklearn.preprocessing import PowerTransformer\n",
    "from sklearn.model_selection import StratifiedKFold\n",
    "import lightgbm as lgb\n",
    "from statsmodels.tsa.stattools import adfuller\n",
    "from statsmodels.graphics.tsaplots import plot_acf, plot_pacf\n",
    "from statsmodels.tsa.arima.model import ARIMA"
   ]
  },
  {
   "cell_type": "code",
   "execution_count": 2,
   "id": "bf1e31cb",
   "metadata": {
    "execution": {
     "iopub.execute_input": "2024-05-07T03:43:47.365592Z",
     "iopub.status.busy": "2024-05-07T03:43:47.364068Z",
     "iopub.status.idle": "2024-05-07T03:43:47.391462Z",
     "shell.execute_reply": "2024-05-07T03:43:47.390186Z"
    },
    "papermill": {
     "duration": 0.037446,
     "end_time": "2024-05-07T03:43:47.394255",
     "exception": false,
     "start_time": "2024-05-07T03:43:47.356809",
     "status": "completed"
    },
    "tags": []
   },
   "outputs": [],
   "source": [
    "df=pd.read_csv(\"/kaggle/input/th-gaussion/Gia SMP va SMPcap 2021(Gi th trng SMP).csv\",encoding='latin-1')\n"
   ]
  },
  {
   "cell_type": "code",
   "execution_count": 3,
   "id": "ba171919",
   "metadata": {
    "execution": {
     "iopub.execute_input": "2024-05-07T03:43:47.408391Z",
     "iopub.status.busy": "2024-05-07T03:43:47.407584Z",
     "iopub.status.idle": "2024-05-07T03:43:47.412945Z",
     "shell.execute_reply": "2024-05-07T03:43:47.411584Z"
    },
    "papermill": {
     "duration": 0.015957,
     "end_time": "2024-05-07T03:43:47.416172",
     "exception": false,
     "start_time": "2024-05-07T03:43:47.400215",
     "status": "completed"
    },
    "tags": []
   },
   "outputs": [],
   "source": [
    "feats= ['6']"
   ]
  },
  {
   "cell_type": "code",
   "execution_count": 4,
   "id": "997937c8",
   "metadata": {
    "execution": {
     "iopub.execute_input": "2024-05-07T03:43:47.431527Z",
     "iopub.status.busy": "2024-05-07T03:43:47.430195Z",
     "iopub.status.idle": "2024-05-07T03:43:47.463023Z",
     "shell.execute_reply": "2024-05-07T03:43:47.461163Z"
    },
    "papermill": {
     "duration": 0.043209,
     "end_time": "2024-05-07T03:43:47.465766",
     "exception": false,
     "start_time": "2024-05-07T03:43:47.422557",
     "status": "completed"
    },
    "tags": []
   },
   "outputs": [
    {
     "data": {
      "text/html": [
       "<div>\n",
       "<style scoped>\n",
       "    .dataframe tbody tr th:only-of-type {\n",
       "        vertical-align: middle;\n",
       "    }\n",
       "\n",
       "    .dataframe tbody tr th {\n",
       "        vertical-align: top;\n",
       "    }\n",
       "\n",
       "    .dataframe thead th {\n",
       "        text-align: right;\n",
       "    }\n",
       "</style>\n",
       "<table border=\"1\" class=\"dataframe\">\n",
       "  <thead>\n",
       "    <tr style=\"text-align: right;\">\n",
       "      <th></th>\n",
       "      <th>6</th>\n",
       "    </tr>\n",
       "  </thead>\n",
       "  <tbody>\n",
       "    <tr>\n",
       "      <th>0</th>\n",
       "      <td>964.4</td>\n",
       "    </tr>\n",
       "    <tr>\n",
       "      <th>1</th>\n",
       "      <td>1019.7</td>\n",
       "    </tr>\n",
       "    <tr>\n",
       "      <th>2</th>\n",
       "      <td>988.4</td>\n",
       "    </tr>\n",
       "    <tr>\n",
       "      <th>3</th>\n",
       "      <td>1002.0</td>\n",
       "    </tr>\n",
       "    <tr>\n",
       "      <th>4</th>\n",
       "      <td>1061.5</td>\n",
       "    </tr>\n",
       "  </tbody>\n",
       "</table>\n",
       "</div>"
      ],
      "text/plain": [
       "        6\n",
       "0   964.4\n",
       "1  1019.7\n",
       "2   988.4\n",
       "3  1002.0\n",
       "4  1061.5"
      ]
     },
     "execution_count": 4,
     "metadata": {},
     "output_type": "execute_result"
    }
   ],
   "source": [
    "df[feats].head()"
   ]
  },
  {
   "cell_type": "code",
   "execution_count": 5,
   "id": "5a7b6b47",
   "metadata": {
    "execution": {
     "iopub.execute_input": "2024-05-07T03:43:47.481428Z",
     "iopub.status.busy": "2024-05-07T03:43:47.480660Z",
     "iopub.status.idle": "2024-05-07T03:43:47.512988Z",
     "shell.execute_reply": "2024-05-07T03:43:47.511486Z"
    },
    "papermill": {
     "duration": 0.043832,
     "end_time": "2024-05-07T03:43:47.516078",
     "exception": false,
     "start_time": "2024-05-07T03:43:47.472246",
     "status": "completed"
    },
    "tags": []
   },
   "outputs": [
    {
     "data": {
      "text/plain": [
       "<bound method DataFrame.info of            Ngày       1       2       3       4       5       6       7  \\\n",
       "0      1/1/2021   964.4   964.4   964.4   964.4   964.4   964.4   964.4   \n",
       "1      1/2/2021  1019.7  1019.7  1019.7  1019.7  1019.7  1019.7  1019.7   \n",
       "2      1/3/2021   988.4   988.4   988.4   988.4   988.4   988.4   988.4   \n",
       "3      1/4/2021  1002.0  1002.0  1002.0  1002.0  1002.0  1002.0  1002.0   \n",
       "4      1/5/2021  1061.5  1061.5  1061.5  1061.5  1061.5  1061.5  1061.5   \n",
       "..          ...     ...     ...     ...     ...     ...     ...     ...   \n",
       "360  27/12/2021  1002.0  1002.0  1002.0  1002.0  1002.0  1002.0  1002.0   \n",
       "361  28/12/2021  1002.0  1002.0  1002.0  1002.0  1002.0  1002.0  1002.0   \n",
       "362  29/12/2021  1061.5  1061.5  1061.5  1061.5  1061.5  1061.5  1061.5   \n",
       "363  30/12/2021  1022.6  1022.6  1022.6  1022.6  1022.6  1022.6  1022.6   \n",
       "364  31/12/2021  1022.6  1022.6  1022.6  1022.6  1022.6  1022.6  1022.6   \n",
       "\n",
       "          8       9  ...      39      40      41      42      43      44  \\\n",
       "0     964.4   964.4  ...   964.4   964.4   964.4   964.4   964.4   964.4   \n",
       "1    1019.7  1019.7  ...  1019.7  1019.7  1019.7  1019.7  1019.7  1019.7   \n",
       "2     988.4   988.4  ...   988.4   988.4   988.4   988.4   988.4   988.4   \n",
       "3    1002.0  1002.1  ...  1010.8  1010.8  1010.8  1010.8  1010.8  1010.8   \n",
       "4    1061.5  1061.5  ...  1061.5  1061.5  1061.5  1061.5  1061.5  1061.5   \n",
       "..      ...     ...  ...     ...     ...     ...     ...     ...     ...   \n",
       "360  1002.0  1002.0  ...  1002.1  1002.1  1002.1  1002.1  1002.1  1002.1   \n",
       "361  1002.0  1002.0  ...  1002.0  1002.0  1002.0  1002.0  1002.0  1002.0   \n",
       "362  1061.5  1061.5  ...  1061.5  1061.5  1061.5  1061.5  1061.5  1061.5   \n",
       "363  1022.6  1022.6  ...  1022.6  1022.6  1022.6  1022.6  1022.6  1022.6   \n",
       "364  1022.6  1022.6  ...  1022.6  1022.6  1022.6  1022.6  1022.6  1022.6   \n",
       "\n",
       "         45      46      47      48  \n",
       "0     964.4   964.4   964.4   964.4  \n",
       "1    1019.7  1019.7  1019.7  1019.7  \n",
       "2     988.4   988.4   988.4   988.4  \n",
       "3    1010.8  1010.8  1010.8  1010.8  \n",
       "4    1061.5  1061.5  1061.5  1061.5  \n",
       "..      ...     ...     ...     ...  \n",
       "360  1002.1  1002.1  1002.0  1002.0  \n",
       "361  1002.0  1002.0  1002.0  1002.0  \n",
       "362  1061.5  1061.5  1061.5  1061.5  \n",
       "363  1022.6  1022.6  1022.6  1022.6  \n",
       "364  1022.6  1022.6  1022.6  1022.6  \n",
       "\n",
       "[365 rows x 49 columns]>"
      ]
     },
     "execution_count": 5,
     "metadata": {},
     "output_type": "execute_result"
    }
   ],
   "source": [
    "df.info"
   ]
  },
  {
   "cell_type": "code",
   "execution_count": 6,
   "id": "eef2eecb",
   "metadata": {
    "execution": {
     "iopub.execute_input": "2024-05-07T03:43:47.531963Z",
     "iopub.status.busy": "2024-05-07T03:43:47.531559Z",
     "iopub.status.idle": "2024-05-07T03:43:47.551551Z",
     "shell.execute_reply": "2024-05-07T03:43:47.549618Z"
    },
    "papermill": {
     "duration": 0.031731,
     "end_time": "2024-05-07T03:43:47.554799",
     "exception": false,
     "start_time": "2024-05-07T03:43:47.523068",
     "status": "completed"
    },
    "tags": []
   },
   "outputs": [],
   "source": [
    "# Chuyển đổi cột '6' thành mảng 2D\n",
    "X = df['5'].values.reshape(-1, 1)\n",
    "\n",
    "# Áp dụng PowerTransformer\n",
    "transformer = PowerTransformer()\n",
    "X_transformed = transformer.fit_transform(X)"
   ]
  },
  {
   "cell_type": "code",
   "execution_count": 7,
   "id": "5973f61b",
   "metadata": {
    "execution": {
     "iopub.execute_input": "2024-05-07T03:43:47.569892Z",
     "iopub.status.busy": "2024-05-07T03:43:47.569374Z",
     "iopub.status.idle": "2024-05-07T03:43:49.857578Z",
     "shell.execute_reply": "2024-05-07T03:43:49.856505Z"
    },
    "papermill": {
     "duration": 2.29902,
     "end_time": "2024-05-07T03:43:49.860385",
     "exception": false,
     "start_time": "2024-05-07T03:43:47.561365",
     "status": "completed"
    },
    "tags": []
   },
   "outputs": [],
   "source": [
    "BGM = BayesianGaussianMixture(n_components=7,covariance_type='full',random_state=1,n_init=15)\n",
    "# fit model and predict clusters\n",
    "preds = BGM.fit_predict(X)\n",
    "\n",
    "#Adding the Clusters feature to the orignal dataframe.\n",
    "df[\"Clusters\"]= preds"
   ]
  },
  {
   "cell_type": "code",
   "execution_count": 8,
   "id": "3d699dcb",
   "metadata": {
    "execution": {
     "iopub.execute_input": "2024-05-07T03:43:49.875491Z",
     "iopub.status.busy": "2024-05-07T03:43:49.874454Z",
     "iopub.status.idle": "2024-05-07T03:43:49.893597Z",
     "shell.execute_reply": "2024-05-07T03:43:49.892485Z"
    },
    "papermill": {
     "duration": 0.029419,
     "end_time": "2024-05-07T03:43:49.896343",
     "exception": false,
     "start_time": "2024-05-07T03:43:49.866924",
     "status": "completed"
    },
    "tags": []
   },
   "outputs": [],
   "source": [
    "pp=BGM.predict_proba(X)# Calcualting the probabilities of each prediction\n",
    "df_new=pd.DataFrame(X,columns=feats) \n",
    "df_new[[f'predict_proba_{i}' for i in range(7)]]=pp # creating new dataframe columSSns of probabilites \n",
    "df_new['preds']=preds\n",
    "df_new['predict_proba']=np.max(pp,axis=1)\n",
    "df_new['predict']=np.argmax(pp,axis=1)\n",
    "    \n",
    "train_index=np.array([])\n",
    "for n in range(7):\n",
    "    n_inx=df_new[(df_new.preds==n) & (df_new.predict_proba > 0.68)].index\n",
    "    train_index = np.concatenate((train_index, n_inx))"
   ]
  },
  {
   "cell_type": "code",
   "execution_count": 9,
   "id": "4ea3fdad",
   "metadata": {
    "execution": {
     "iopub.execute_input": "2024-05-07T03:43:49.911640Z",
     "iopub.status.busy": "2024-05-07T03:43:49.911243Z",
     "iopub.status.idle": "2024-05-07T03:44:02.160380Z",
     "shell.execute_reply": "2024-05-07T03:44:02.159037Z"
    },
    "papermill": {
     "duration": 12.259776,
     "end_time": "2024-05-07T03:44:02.163078",
     "exception": false,
     "start_time": "2024-05-07T03:43:49.903302",
     "status": "completed"
    },
    "tags": []
   },
   "outputs": [
    {
     "name": "stdout",
     "output_type": "stream",
     "text": [
      "[200]\tvalid_0's multi_logloss: 0.000151726\n",
      "[400]\tvalid_0's multi_logloss: 0.000151726\n",
      "[200]\tvalid_0's multi_logloss: 0.000153686\n",
      "[400]\tvalid_0's multi_logloss: 0.000153686\n",
      "[200]\tvalid_0's multi_logloss: 0.000154034\n",
      "[400]\tvalid_0's multi_logloss: 0.000154034\n",
      "[600]\tvalid_0's multi_logloss: 0.000154034\n",
      "[200]\tvalid_0's multi_logloss: 0.000156754\n",
      "[400]\tvalid_0's multi_logloss: 0.000156754\n",
      "[200]\tvalid_0's multi_logloss: 0.000153261\n",
      "[400]\tvalid_0's multi_logloss: 0.000153261\n",
      "[200]\tvalid_0's multi_logloss: 0.00015524\n",
      "[400]\tvalid_0's multi_logloss: 0.00015524\n",
      "[200]\tvalid_0's multi_logloss: 0.000155472\n",
      "[400]\tvalid_0's multi_logloss: 0.000155472\n",
      "[200]\tvalid_0's multi_logloss: 9.92419e-06\n",
      "[400]\tvalid_0's multi_logloss: 9.8222e-06\n",
      "[600]\tvalid_0's multi_logloss: 9.75475e-06\n",
      "[800]\tvalid_0's multi_logloss: 9.70667e-06\n",
      "[1000]\tvalid_0's multi_logloss: 9.67072e-06\n",
      "[1200]\tvalid_0's multi_logloss: 9.64285e-06\n",
      "[1400]\tvalid_0's multi_logloss: 9.62062e-06\n",
      "[1600]\tvalid_0's multi_logloss: 9.60248e-06\n",
      "[1800]\tvalid_0's multi_logloss: 9.5874e-06\n",
      "[2000]\tvalid_0's multi_logloss: 9.57468e-06\n",
      "[2200]\tvalid_0's multi_logloss: 9.5638e-06\n",
      "[2400]\tvalid_0's multi_logloss: 9.55439e-06\n",
      "[2600]\tvalid_0's multi_logloss: 9.54618e-06\n",
      "[2800]\tvalid_0's multi_logloss: 9.53894e-06\n",
      "[3000]\tvalid_0's multi_logloss: 9.53252e-06\n",
      "[3200]\tvalid_0's multi_logloss: 9.52679e-06\n",
      "[3400]\tvalid_0's multi_logloss: 9.52163e-06\n",
      "[3600]\tvalid_0's multi_logloss: 9.51698e-06\n",
      "[3800]\tvalid_0's multi_logloss: 9.51275e-06\n",
      "[4000]\tvalid_0's multi_logloss: 9.50889e-06\n",
      "[4200]\tvalid_0's multi_logloss: 9.50536e-06\n",
      "[4400]\tvalid_0's multi_logloss: 9.50212e-06\n",
      "[4600]\tvalid_0's multi_logloss: 9.49913e-06\n",
      "[4800]\tvalid_0's multi_logloss: 9.49636e-06\n",
      "[5000]\tvalid_0's multi_logloss: 9.49379e-06\n",
      "[200]\tvalid_0's multi_logloss: 0.000157332\n",
      "[400]\tvalid_0's multi_logloss: 0.000157332\n",
      "[200]\tvalid_0's multi_logloss: 0.0119762\n",
      "[400]\tvalid_0's multi_logloss: 0.0119762\n",
      "[200]\tvalid_0's multi_logloss: 0.02382\n"
     ]
    }
   ],
   "source": [
    "from sklearn.model_selection import StratifiedKFold\n",
    "X_new=df_new.loc[train_index][feats]\n",
    "y=df_new.loc[train_index]['preds']\n",
    "\n",
    "params_lgb = {'learning_rate': 0.06,'objective': 'multiclass','boosting': 'gbdt','n_jobs': -1,'verbosity': -1, 'num_classes':7} \n",
    "\n",
    "model_list=[]\n",
    "\n",
    "gkf = StratifiedKFold(11)\n",
    "for fold, (train_idx, valid_idx) in enumerate(gkf.split(X_new,y)):   \n",
    "\n",
    "    tr_dataset = lgb.Dataset(X_new.iloc[train_idx],y.iloc[train_idx],feature_name = feats)\n",
    "    vl_dataset = lgb.Dataset(X_new.iloc[valid_idx],y.iloc[valid_idx],feature_name = feats)\n",
    "    \n",
    "    model = lgb.train(params = params_lgb, \n",
    "                train_set = tr_dataset, \n",
    "                valid_sets =  vl_dataset, \n",
    "                num_boost_round = 5000, \n",
    "                callbacks=[ lgb.early_stopping(stopping_rounds=300, verbose=False), lgb.log_evaluation(period=200)])  \n",
    "    \n",
    "    model_list.append(model) \n"
   ]
  },
  {
   "cell_type": "code",
   "execution_count": 10,
   "id": "9c8fb2e4",
   "metadata": {
    "execution": {
     "iopub.execute_input": "2024-05-07T03:44:02.184197Z",
     "iopub.status.busy": "2024-05-07T03:44:02.183754Z",
     "iopub.status.idle": "2024-05-07T03:44:02.190112Z",
     "shell.execute_reply": "2024-05-07T03:44:02.188885Z"
    },
    "papermill": {
     "duration": 0.019907,
     "end_time": "2024-05-07T03:44:02.192732",
     "exception": false,
     "start_time": "2024-05-07T03:44:02.172825",
     "status": "completed"
    },
    "tags": []
   },
   "outputs": [],
   "source": [
    "col_index = 5  \n",
    "r_t = np.log(df.iloc[:, col_index] / df.iloc[:, col_index].shift(1)).values"
   ]
  },
  {
   "cell_type": "code",
   "execution_count": 11,
   "id": "516775c1",
   "metadata": {
    "execution": {
     "iopub.execute_input": "2024-05-07T03:44:02.212669Z",
     "iopub.status.busy": "2024-05-07T03:44:02.212281Z",
     "iopub.status.idle": "2024-05-07T03:44:02.220538Z",
     "shell.execute_reply": "2024-05-07T03:44:02.219180Z"
    },
    "papermill": {
     "duration": 0.021273,
     "end_time": "2024-05-07T03:44:02.223043",
     "exception": false,
     "start_time": "2024-05-07T03:44:02.201770",
     "status": "completed"
    },
    "tags": []
   },
   "outputs": [
    {
     "data": {
      "text/plain": [
       "array([ 0.00016098,  0.0557576 , -0.03117627,  0.01366581,  0.057685  ])"
      ]
     },
     "execution_count": 11,
     "metadata": {},
     "output_type": "execute_result"
    }
   ],
   "source": [
    "mean = np.nanmean(r_t)\n",
    "r_t[0]=mean\n",
    "r_t[:5]"
   ]
  },
  {
   "cell_type": "code",
   "execution_count": 12,
   "id": "0fa8f3d7",
   "metadata": {
    "execution": {
     "iopub.execute_input": "2024-05-07T03:44:02.243889Z",
     "iopub.status.busy": "2024-05-07T03:44:02.243498Z",
     "iopub.status.idle": "2024-05-07T03:44:02.281643Z",
     "shell.execute_reply": "2024-05-07T03:44:02.279927Z"
    },
    "papermill": {
     "duration": 0.051622,
     "end_time": "2024-05-07T03:44:02.284464",
     "exception": false,
     "start_time": "2024-05-07T03:44:02.232842",
     "status": "completed"
    },
    "tags": []
   },
   "outputs": [
    {
     "name": "stdout",
     "output_type": "stream",
     "text": [
      "ADF Statistic: -9.348025\n",
      "p-value: 0.000000\n",
      "Critical Values:\n",
      "\t1%: -3.449\n",
      "\t5%: -2.870\n",
      "\t10%: -2.571\n"
     ]
    }
   ],
   "source": [
    "result = adfuller(r_t)\n",
    "print('ADF Statistic: %f' % result[0])\n",
    "print('p-value: %f' % result[1])\n",
    "print('Critical Values:')\n",
    "for key, value in result[4].items():\n",
    "\tprint('\\t%s: %.3f' % (key, value))"
   ]
  },
  {
   "cell_type": "code",
   "execution_count": 13,
   "id": "72c2c3c9",
   "metadata": {
    "execution": {
     "iopub.execute_input": "2024-05-07T03:44:02.306241Z",
     "iopub.status.busy": "2024-05-07T03:44:02.305821Z",
     "iopub.status.idle": "2024-05-07T03:44:02.706663Z",
     "shell.execute_reply": "2024-05-07T03:44:02.705266Z"
    },
    "papermill": {
     "duration": 0.414389,
     "end_time": "2024-05-07T03:44:02.709382",
     "exception": false,
     "start_time": "2024-05-07T03:44:02.294993",
     "status": "completed"
    },
    "tags": []
   },
   "outputs": [
    {
     "data": {
      "text/plain": [
       "<Figure size 800x600 with 0 Axes>"
      ]
     },
     "metadata": {},
     "output_type": "display_data"
    },
    {
     "data": {
      "image/png": "[encoded data removed]",
      "text/plain": [
       "<Figure size 640x480 with 1 Axes>"
      ]
     },
     "metadata": {},
     "output_type": "display_data"
    }
   ],
   "source": [
    "plt.figure(figsize = (8, 6))\n",
    "ax1 = plot_acf(r_t)"
   ]
  },
  {
   "cell_type": "code",
   "execution_count": 14,
   "id": "bd080a0e",
   "metadata": {
    "execution": {
     "iopub.execute_input": "2024-05-07T03:44:02.732453Z",
     "iopub.status.busy": "2024-05-07T03:44:02.732046Z",
     "iopub.status.idle": "2024-05-07T03:44:03.119941Z",
     "shell.execute_reply": "2024-05-07T03:44:03.118426Z"
    },
    "papermill": {
     "duration": 0.402917,
     "end_time": "2024-05-07T03:44:03.122740",
     "exception": false,
     "start_time": "2024-05-07T03:44:02.719823",
     "status": "completed"
    },
    "tags": []
   },
   "outputs": [
    {
     "data": {
      "text/plain": [
       "<Figure size 800x600 with 0 Axes>"
      ]
     },
     "metadata": {},
     "output_type": "display_data"
    },
    {
     "data": {
      "image/png": "[encoded data removed]",
      "text/plain": [
       "<Figure size 640x480 with 1 Axes>"
      ]
     },
     "metadata": {},
     "output_type": "display_data"
    }
   ],
   "source": [
    "from statsmodels.graphics.tsaplots import plot_acf, plot_pacf\n",
    "import matplotlib.pyplot as plt\n",
    "plt.figure(figsize = (8, 6))\n",
    "ax2 = plot_pacf(r_t)"
   ]
  },
  {
   "cell_type": "code",
   "execution_count": 15,
   "id": "64d013b9",
   "metadata": {
    "execution": {
     "iopub.execute_input": "2024-05-07T03:44:03.146687Z",
     "iopub.status.busy": "2024-05-07T03:44:03.145862Z",
     "iopub.status.idle": "2024-05-07T03:44:04.784762Z",
     "shell.execute_reply": "2024-05-07T03:44:04.783610Z"
    },
    "papermill": {
     "duration": 1.658655,
     "end_time": "2024-05-07T03:44:04.791621",
     "exception": false,
     "start_time": "2024-05-07T03:44:03.132966",
     "status": "completed"
    },
    "tags": []
   },
   "outputs": [
    {
     "name": "stdout",
     "output_type": "stream",
     "text": [
      "                               SARIMAX Results                                \n",
      "==============================================================================\n",
      "Dep. Variable:                      y   No. Observations:                  365\n",
      "Model:                 ARIMA(2, 0, 2)   Log Likelihood                 563.754\n",
      "Date:                Tue, 07 May 2024   AIC                          -1115.508\n",
      "Time:                        03:44:04   BIC                          -1092.108\n",
      "Sample:                             0   HQIC                         -1106.208\n",
      "                                - 365                                         \n",
      "Covariance Type:                  opg                                         \n",
      "==============================================================================\n",
      "                 coef    std err          z      P>|z|      [0.025      0.975]\n",
      "------------------------------------------------------------------------------\n",
      "const      -2.125e-05      0.001     -0.029      0.977      -0.001       0.001\n",
      "ar.L1         -0.0138      0.080     -0.173      0.862      -0.170       0.143\n",
      "ar.L2          0.4604      0.074      6.251      0.000       0.316       0.605\n",
      "ma.L1         -0.0957      0.070     -1.376      0.169      -0.232       0.041\n",
      "ma.L2         -0.7817      0.071    -11.062      0.000      -0.920      -0.643\n",
      "sigma2         0.0027      0.000     24.340      0.000       0.003       0.003\n",
      "===================================================================================\n",
      "Ljung-Box (L1) (Q):                   0.00   Jarque-Bera (JB):               631.01\n",
      "Prob(Q):                              0.96   Prob(JB):                         0.00\n",
      "Heteroskedasticity (H):               1.70   Skew:                             0.54\n",
      "Prob(H) (two-sided):                  0.00   Kurtosis:                         9.35\n",
      "===================================================================================\n",
      "\n",
      "Warnings:\n",
      "[1] Covariance matrix calculated using the outer product of gradients (complex-step).\n"
     ]
    },
    {
     "name": "stderr",
     "output_type": "stream",
     "text": [
      "/opt/conda/lib/python3.10/site-packages/statsmodels/base/model.py:607: ConvergenceWarning: Maximum Likelihood optimization failed to converge. Check mle_retvals\n",
      "  warnings.warn(\"Maximum Likelihood optimization failed to \"\n"
     ]
    }
   ],
   "source": [
    "model_arima = ARIMA(r_t, order=(2, 0, 2))\n",
    "model_fit = model_arima.fit()\n",
    "print(model_fit.summary())"
   ]
  }
 ],
 "metadata": {
  "kaggle": {
   "accelerator": "none",
   "dataSources": [
    {
     "datasetId": 4954120,
     "sourceId": 8341041,
     "sourceType": "datasetVersion"
    }
   ],
   "dockerImageVersionId": 30698,
   "isGpuEnabled": false,
   "isInternetEnabled": false,
   "language": "python",
   "sourceType": "notebook"
  },
  "kernelspec": {
   "display_name": "Python 3",
   "language": "python",
   "name": "python3"
  },
  "language_info": {
   "codemirror_mode": {
    "name": "ipython",
    "version": 3
   },
   "file_extension": ".py",
   "mimetype": "text/x-python",
   "name": "python",
   "nbconvert_exporter": "python",
   "pygments_lexer": "ipython3",
   "version": "3.10.13"
  },
  "papermill": {
   "default_parameters": {},
   "duration": 26.949355,
   "end_time": "2024-05-07T03:44:05.639760",
   "environment_variables": {},
   "exception": null,
   "input_path": "__notebook__.ipynb",
   "output_path": "__notebook__.ipynb",
   "parameters": {},
   "start_time": "2024-05-07T03:43:38.690405",
   "version": "2.5.0"
  }
 },
 "nbformat": 4,
 "nbformat_minor": 5
}
